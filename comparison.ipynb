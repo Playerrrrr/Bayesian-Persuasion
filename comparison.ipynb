{
 "cells": [
  {
   "cell_type": "code",
   "execution_count": 34,
   "metadata": {},
   "outputs": [],
   "source": [
    "from scipy.optimize import minimize\n",
    "import numpy as np\n",
    "import pandas as pd"
   ]
  },
  {
   "cell_type": "code",
   "execution_count": 35,
   "metadata": {},
   "outputs": [],
   "source": [
    "# First we define the utility of the player in the stage game"
   ]
  },
  {
   "cell_type": "code",
   "execution_count": 36,
   "metadata": {},
   "outputs": [],
   "source": [
    "ug0 = 1\n",
    "ug1 = 2\n",
    "ub0 = -1\n",
    "ub1 = -2"
   ]
  },
  {
   "cell_type": "code",
   "execution_count": 37,
   "metadata": {},
   "outputs": [],
   "source": [
    "# Then we set the probability of states\n",
    "# The variables with short names are for the first stage while variables with logn names are for the second stage"
   ]
  },
  {
   "cell_type": "code",
   "execution_count": 38,
   "metadata": {},
   "outputs": [],
   "source": [
    "pg = 0.9\n",
    "pb = 0.1\n",
    "\n",
    "g00pg = 0.6\n",
    "g00pb = 0.4\n",
    "g10pg = 0.6\n",
    "g10pb = 0.4\n",
    "b00pg = 0.6\n",
    "b00pb = 0.4\n",
    "b10pg = 0.6\n",
    "b10pb = 0.4\n",
    "\n",
    "g01pg = 0.4\n",
    "g01pb = 0.6\n",
    "g11pg = 0.4\n",
    "g11pb = 0.6\n",
    "b01pg = 0.4\n",
    "b01pb = 0.6\n",
    "b11pg = 0.4\n",
    "b11pb = 0.6"
   ]
  },
  {
   "cell_type": "code",
   "execution_count": 39,
   "metadata": {},
   "outputs": [],
   "source": [
    "# We need to solve the information design problem in the second stage after all possible histories"
   ]
  },
  {
   "cell_type": "code",
   "execution_count": 40,
   "metadata": {},
   "outputs": [],
   "source": [
    "# Here is the information design problem after history g00"
   ]
  },
  {
   "cell_type": "code",
   "execution_count": 41,
   "metadata": {},
   "outputs": [],
   "source": [
    "# We will need to determine g00pg0 g00pg1 g00pb0 and g00pb1\n",
    "# We denote them as x[0], x[1], x[2] and x[3] respectively"
   ]
  },
  {
   "cell_type": "code",
   "execution_count": 42,
   "metadata": {},
   "outputs": [
    {
     "name": "stdout",
     "output_type": "stream",
     "text": [
      "With g00pg0 = 0.3999999999999997\n",
      "With g00pg1 = 0.2\n",
      "With g00pb0 = 0.4\n",
      "With g00pb1 = -1.6653345369377348e-16\n",
      "The expected utility of the player after g00 is 0.4\n"
     ]
    }
   ],
   "source": [
    "fun = lambda x : - x[0] - x[2]\n",
    "cons = ({'type': 'eq', 'fun': lambda x: x[0] + x[1] - g00pg},\n",
    "        {'type': 'eq', 'fun': lambda x: x[2] + x[3] - g00pb},\n",
    "        {'type': 'ineq', 'fun': lambda x: x[0] * ug0 + x[2] * ub0 - x[0] * ug1 - x[2] * ub1},\n",
    "        {'type': 'ineq', 'fun': lambda x: x[1] * ug1 + x[3] * ub1 - x[1] * ug0 - x[3] * ub0},\n",
    "        {'type': 'ineq', 'fun': lambda x: x[0]},\n",
    "        {'type': 'ineq', 'fun': lambda x: x[1]},\n",
    "        {'type': 'ineq', 'fun': lambda x: x[2]},\n",
    "        {'type': 'ineq', 'fun': lambda x: x[3]},\n",
    "        {'type': 'ineq', 'fun': lambda x: 1 - x[0]},\n",
    "        {'type': 'ineq', 'fun': lambda x: 1 - x[1]},\n",
    "        {'type': 'ineq', 'fun': lambda x: 1 - x[2]},\n",
    "        {'type': 'ineq', 'fun': lambda x: 1 - x[3]}\n",
    "       )\n",
    "x0 = np.array((0,0,0,0))\n",
    "g00res = minimize(fun, x0, method='SLSQP', constraints=cons)\n",
    "\n",
    "ug00 = g00res.x[0] * ug0 + g00res.x[1] * ug1 + g00res.x[2] * ub0 + g00res.x[3] * ub1\n",
    "vg00 = g00res.fun\n",
    "\n",
    "print(\"With g00pg0 =\",g00res.x[0])\n",
    "print(\"With g00pg1 =\",g00res.x[1])\n",
    "print(\"With g00pb0 =\",g00res.x[2])\n",
    "print(\"With g00pb1 =\",g00res.x[3])\n",
    "print(\"The expected utility of the player after g00 is\", ug00)\n"
   ]
  },
  {
   "cell_type": "code",
   "execution_count": 43,
   "metadata": {},
   "outputs": [],
   "source": [
    "# Here is the information design problem after history g10\n",
    "# We will need to determine g10pg0 g10pg1 g10pb0 and g10pb1\n",
    "# We denote them as x[0], x[1], x[2] and x[3] respectively"
   ]
  },
  {
   "cell_type": "code",
   "execution_count": 44,
   "metadata": {},
   "outputs": [
    {
     "name": "stdout",
     "output_type": "stream",
     "text": [
      "With g10pg0 = 0.3999999999999997\n",
      "With g10pg1 = 0.2\n",
      "With g10pb0 = 0.4\n",
      "With g10pb1 = -1.6653345369377348e-16\n",
      "The expected utility of the player after g10 is 0.4\n"
     ]
    }
   ],
   "source": [
    "fun = lambda x : - x[0] - x[2]\n",
    "cons = ({'type': 'eq', 'fun': lambda x: x[0] + x[1] - g10pg},\n",
    "        {'type': 'eq', 'fun': lambda x: x[2] + x[3] - g10pb},\n",
    "        {'type': 'ineq', 'fun': lambda x: x[0] * ug0 + x[2] * ub0 - x[0] * ug1 - x[2] * ub1},\n",
    "        {'type': 'ineq', 'fun': lambda x: x[1] * ug1 + x[3] * ub1 - x[1] * ug0 - x[3] * ub0},\n",
    "        {'type': 'ineq', 'fun': lambda x: x[0]},\n",
    "        {'type': 'ineq', 'fun': lambda x: x[1]},\n",
    "        {'type': 'ineq', 'fun': lambda x: x[2]},\n",
    "        {'type': 'ineq', 'fun': lambda x: x[3]},\n",
    "        {'type': 'ineq', 'fun': lambda x: 1 - x[0]},\n",
    "        {'type': 'ineq', 'fun': lambda x: 1 - x[1]},\n",
    "        {'type': 'ineq', 'fun': lambda x: 1 - x[2]},\n",
    "        {'type': 'ineq', 'fun': lambda x: 1 - x[3]}\n",
    "       )\n",
    "x0 = np.array((0,0,0,0))\n",
    "g10res = minimize(fun, x0, method='SLSQP', constraints=cons)\n",
    "\n",
    "ug10 = g10res.x[0] * ug0 + g10res.x[1] * ug1 + g10res.x[2] * ub0 + g10res.x[3] * ub1\n",
    "vg10 = g10res.fun\n",
    "\n",
    "print(\"With g10pg0 =\",g10res.x[0])\n",
    "print(\"With g10pg1 =\",g10res.x[1])\n",
    "print(\"With g10pb0 =\",g10res.x[2])\n",
    "print(\"With g10pb1 =\",g10res.x[3])\n",
    "print(\"The expected utility of the player after g10 is\", ug10)\n"
   ]
  },
  {
   "cell_type": "code",
   "execution_count": 45,
   "metadata": {},
   "outputs": [
    {
     "name": "stdout",
     "output_type": "stream",
     "text": [
      "With b00pg0 = 0.3999999999999997\n",
      "With b00pg1 = 0.2\n",
      "With b00pb0 = 0.4\n",
      "With b00pb1 = -1.6653345369377348e-16\n",
      "The expected utility of the player after b00 is 0.4\n"
     ]
    }
   ],
   "source": [
    "fun = lambda x : - x[0] - x[2]\n",
    "cons = ({'type': 'eq', 'fun': lambda x: x[0] + x[1] - b00pg},\n",
    "        {'type': 'eq', 'fun': lambda x: x[2] + x[3] - b00pb},\n",
    "        {'type': 'ineq', 'fun': lambda x: x[0] * ug0 + x[2] * ub0 - x[0] * ug1 - x[2] * ub1},\n",
    "        {'type': 'ineq', 'fun': lambda x: x[1] * ug1 + x[3] * ub1 - x[1] * ug0 - x[3] * ub0},\n",
    "        {'type': 'ineq', 'fun': lambda x: x[0]},\n",
    "        {'type': 'ineq', 'fun': lambda x: x[1]},\n",
    "        {'type': 'ineq', 'fun': lambda x: x[2]},\n",
    "        {'type': 'ineq', 'fun': lambda x: x[3]},\n",
    "        {'type': 'ineq', 'fun': lambda x: 1 - x[0]},\n",
    "        {'type': 'ineq', 'fun': lambda x: 1 - x[1]},\n",
    "        {'type': 'ineq', 'fun': lambda x: 1 - x[2]},\n",
    "        {'type': 'ineq', 'fun': lambda x: 1 - x[3]}\n",
    "       )\n",
    "x0 = np.array((0,0,0,0))\n",
    "b00res = minimize(fun, x0, method='SLSQP', constraints=cons)\n",
    "\n",
    "ub00 = b00res.x[0] * ug0 + b00res.x[1] * ug1 + b00res.x[2] * ub0 + b00res.x[3] * ub1\n",
    "vb00 = b00res.fun\n",
    "\n",
    "print(\"With b00pg0 =\",b00res.x[0])\n",
    "print(\"With b00pg1 =\",b00res.x[1])\n",
    "print(\"With b00pb0 =\",b00res.x[2])\n",
    "print(\"With b00pb1 =\",b00res.x[3])\n",
    "print(\"The expected utility of the player after b00 is\", ub00)\n"
   ]
  },
  {
   "cell_type": "code",
   "execution_count": 46,
   "metadata": {},
   "outputs": [
    {
     "name": "stdout",
     "output_type": "stream",
     "text": [
      "With b10pg0 = 0.3999999999999997\n",
      "With b10pg1 = 0.2\n",
      "With b10pb0 = 0.4\n",
      "With b10pb1 = -1.6653345369377348e-16\n",
      "The expected utility of the player after b10 is 0.4\n"
     ]
    }
   ],
   "source": [
    "fun = lambda x : - x[0] - x[2]\n",
    "cons = ({'type': 'eq', 'fun': lambda x: x[0] + x[1] - b10pg},\n",
    "        {'type': 'eq', 'fun': lambda x: x[2] + x[3] - b10pb},\n",
    "        {'type': 'ineq', 'fun': lambda x: x[0] * ug0 + x[2] * ub0 - x[0] * ug1 - x[2] * ub1},\n",
    "        {'type': 'ineq', 'fun': lambda x: x[1] * ug1 + x[3] * ub1 - x[1] * ug0 - x[3] * ub0},\n",
    "        {'type': 'ineq', 'fun': lambda x: x[0]},\n",
    "        {'type': 'ineq', 'fun': lambda x: x[1]},\n",
    "        {'type': 'ineq', 'fun': lambda x: x[2]},\n",
    "        {'type': 'ineq', 'fun': lambda x: x[3]},\n",
    "        {'type': 'ineq', 'fun': lambda x: 1 - x[0]},\n",
    "        {'type': 'ineq', 'fun': lambda x: 1 - x[1]},\n",
    "        {'type': 'ineq', 'fun': lambda x: 1 - x[2]},\n",
    "        {'type': 'ineq', 'fun': lambda x: 1 - x[3]}\n",
    "       )\n",
    "x0 = np.array((0,0,0,0))\n",
    "b10res = minimize(fun, x0, method='SLSQP', constraints=cons)\n",
    "\n",
    "ub10 = b10res.x[0] * ug0 + b10res.x[1] * ug1 + b10res.x[2] * ub0 + b10res.x[3] * ub1\n",
    "vb10 = b10res.fun\n",
    "\n",
    "print(\"With b10pg0 =\",b10res.x[0])\n",
    "print(\"With b10pg1 =\",b10res.x[1])\n",
    "print(\"With b10pb0 =\",b10res.x[2])\n",
    "print(\"With b10pb1 =\",b10res.x[3])\n",
    "print(\"The expected utility of the player after b10 is\", ub10)"
   ]
  },
  {
   "cell_type": "code",
   "execution_count": 47,
   "metadata": {},
   "outputs": [
    {
     "name": "stdout",
     "output_type": "stream",
     "text": [
      "With g01pg0 = 0.3999999999999999\n",
      "With g01pg1 = -1.1102230246251565e-16\n",
      "With g01pb0 = 0.5999999999999998\n",
      "With g01pb1 = 5.551115123125783e-17\n",
      "The expected utility of the player after g01 is -0.20000000000000018\n"
     ]
    }
   ],
   "source": [
    "fun = lambda x : - x[0] - x[2]\n",
    "cons = ({'type': 'eq', 'fun': lambda x: x[0] + x[1] - g01pg},\n",
    "        {'type': 'eq', 'fun': lambda x: x[2] + x[3] - g01pb},\n",
    "        {'type': 'ineq', 'fun': lambda x: x[0] * ug0 + x[2] * ub0 - x[0] * ug1 - x[2] * ub1},\n",
    "        {'type': 'ineq', 'fun': lambda x: x[1] * ug1 + x[3] * ub1 - x[1] * ug0 - x[3] * ub0},\n",
    "        {'type': 'ineq', 'fun': lambda x: x[0]},\n",
    "        {'type': 'ineq', 'fun': lambda x: x[1]},\n",
    "        {'type': 'ineq', 'fun': lambda x: x[2]},\n",
    "        {'type': 'ineq', 'fun': lambda x: x[3]},\n",
    "        {'type': 'ineq', 'fun': lambda x: 1 - x[0]},\n",
    "        {'type': 'ineq', 'fun': lambda x: 1 - x[1]},\n",
    "        {'type': 'ineq', 'fun': lambda x: 1 - x[2]},\n",
    "        {'type': 'ineq', 'fun': lambda x: 1 - x[3]}\n",
    "       )\n",
    "x0 = np.array((0,0,0,0))\n",
    "g01res = minimize(fun, x0, method='SLSQP', constraints=cons)\n",
    "\n",
    "ug01 = g01res.x[0] * ug0 + g01res.x[1] * ug1 + g01res.x[2] * ub0 + g01res.x[3] * ub1\n",
    "vg01 = g01res.fun\n",
    "\n",
    "print(\"With g01pg0 =\",g01res.x[0])\n",
    "print(\"With g01pg1 =\",g01res.x[1])\n",
    "print(\"With g01pb0 =\",g01res.x[2])\n",
    "print(\"With g01pb1 =\",g01res.x[3])\n",
    "print(\"The expected utility of the player after g01 is\", ug01)"
   ]
  },
  {
   "cell_type": "code",
   "execution_count": 48,
   "metadata": {},
   "outputs": [
    {
     "name": "stdout",
     "output_type": "stream",
     "text": [
      "With g11pg0 = 0.3999999999999999\n",
      "With g11pg1 = -1.1102230246251565e-16\n",
      "With g11pb0 = 0.5999999999999998\n",
      "With g11pb1 = 5.551115123125783e-17\n",
      "The expected utility of the player after g11 is -0.20000000000000018\n"
     ]
    }
   ],
   "source": [
    "fun = lambda x : - x[0] - x[2]\n",
    "cons = ({'type': 'eq', 'fun': lambda x: x[0] + x[1] - g11pg},\n",
    "        {'type': 'eq', 'fun': lambda x: x[2] + x[3] - g11pb},\n",
    "        {'type': 'ineq', 'fun': lambda x: x[0] * ug0 + x[2] * ub0 - x[0] * ug1 - x[2] * ub1},\n",
    "        {'type': 'ineq', 'fun': lambda x: x[1] * ug1 + x[3] * ub1 - x[1] * ug0 - x[3] * ub0},\n",
    "        {'type': 'ineq', 'fun': lambda x: x[0]},\n",
    "        {'type': 'ineq', 'fun': lambda x: x[1]},\n",
    "        {'type': 'ineq', 'fun': lambda x: x[2]},\n",
    "        {'type': 'ineq', 'fun': lambda x: x[3]},\n",
    "        {'type': 'ineq', 'fun': lambda x: 1 - x[0]},\n",
    "        {'type': 'ineq', 'fun': lambda x: 1 - x[1]},\n",
    "        {'type': 'ineq', 'fun': lambda x: 1 - x[2]},\n",
    "        {'type': 'ineq', 'fun': lambda x: 1 - x[3]}\n",
    "       )\n",
    "x0 = np.array((0,0,0,0))\n",
    "g11res = minimize(fun, x0, method='SLSQP', constraints=cons)\n",
    "\n",
    "ug11 = g11res.x[0] * ug0 + g11res.x[1] * ug1 + g11res.x[2] * ub0 + g11res.x[3] * ub1\n",
    "vg11 = g11res.fun\n",
    "\n",
    "print(\"With g11pg0 =\",g11res.x[0])\n",
    "print(\"With g11pg1 =\",g11res.x[1])\n",
    "print(\"With g11pb0 =\",g11res.x[2])\n",
    "print(\"With g11pb1 =\",g11res.x[3])\n",
    "print(\"The expected utility of the player after g11 is\", ug11)"
   ]
  },
  {
   "cell_type": "code",
   "execution_count": 49,
   "metadata": {},
   "outputs": [
    {
     "name": "stdout",
     "output_type": "stream",
     "text": [
      "With b01pg0 = 0.3999999999999999\n",
      "With b01pg1 = -1.1102230246251565e-16\n",
      "With b01pb0 = 0.5999999999999998\n",
      "With b01pb1 = 5.551115123125783e-17\n",
      "The expected utility of the player after b01 is -0.20000000000000018\n"
     ]
    }
   ],
   "source": [
    "fun = lambda x : - x[0] - x[2]\n",
    "cons = ({'type': 'eq', 'fun': lambda x: x[0] + x[1] - b01pg},\n",
    "        {'type': 'eq', 'fun': lambda x: x[2] + x[3] - b01pb},\n",
    "        {'type': 'ineq', 'fun': lambda x: x[0] * ug0 + x[2] * ub0 - x[0] * ug1 - x[2] * ub1},\n",
    "        {'type': 'ineq', 'fun': lambda x: x[1] * ug1 + x[3] * ub1 - x[1] * ug0 - x[3] * ub0},\n",
    "        {'type': 'ineq', 'fun': lambda x: x[0]},\n",
    "        {'type': 'ineq', 'fun': lambda x: x[1]},\n",
    "        {'type': 'ineq', 'fun': lambda x: x[2]},\n",
    "        {'type': 'ineq', 'fun': lambda x: x[3]},\n",
    "        {'type': 'ineq', 'fun': lambda x: 1 - x[0]},\n",
    "        {'type': 'ineq', 'fun': lambda x: 1 - x[1]},\n",
    "        {'type': 'ineq', 'fun': lambda x: 1 - x[2]},\n",
    "        {'type': 'ineq', 'fun': lambda x: 1 - x[3]}\n",
    "       )\n",
    "x0 = np.array((0,0,0,0))\n",
    "b01res = minimize(fun, x0, method='SLSQP', constraints=cons)\n",
    "\n",
    "ub01 = b01res.x[0] * ug0 + b01res.x[1] * ug1 + b01res.x[2] * ub0 + b01res.x[3] * ub1\n",
    "vb01 = b01res.fun\n",
    "\n",
    "print(\"With b01pg0 =\",b01res.x[0])\n",
    "print(\"With b01pg1 =\",b01res.x[1])\n",
    "print(\"With b01pb0 =\",b01res.x[2])\n",
    "print(\"With b01pb1 =\",b01res.x[3])\n",
    "print(\"The expected utility of the player after b01 is\", ub01)"
   ]
  },
  {
   "cell_type": "code",
   "execution_count": 50,
   "metadata": {},
   "outputs": [
    {
     "name": "stdout",
     "output_type": "stream",
     "text": [
      "With b11pg0 = 0.3999999999999999\n",
      "With b11pg1 = -1.1102230246251565e-16\n",
      "With b11pb0 = 0.5999999999999998\n",
      "With b11pb1 = 5.551115123125783e-17\n",
      "The expected utility of the player after b11 is -0.20000000000000018\n"
     ]
    }
   ],
   "source": [
    "fun = lambda x : - x[0] - x[2]\n",
    "cons = ({'type': 'eq', 'fun': lambda x: x[0] + x[1] - b11pg},\n",
    "        {'type': 'eq', 'fun': lambda x: x[2] + x[3] - b11pb},\n",
    "        {'type': 'ineq', 'fun': lambda x: x[0] * ug0 + x[2] * ub0 - x[0] * ug1 - x[2] * ub1},\n",
    "        {'type': 'ineq', 'fun': lambda x: x[1] * ug1 + x[3] * ub1 - x[1] * ug0 - x[3] * ub0},\n",
    "        {'type': 'ineq', 'fun': lambda x: x[0]},\n",
    "        {'type': 'ineq', 'fun': lambda x: x[1]},\n",
    "        {'type': 'ineq', 'fun': lambda x: x[2]},\n",
    "        {'type': 'ineq', 'fun': lambda x: x[3]},\n",
    "        {'type': 'ineq', 'fun': lambda x: 1 - x[0]},\n",
    "        {'type': 'ineq', 'fun': lambda x: 1 - x[1]},\n",
    "        {'type': 'ineq', 'fun': lambda x: 1 - x[2]},\n",
    "        {'type': 'ineq', 'fun': lambda x: 1 - x[3]}\n",
    "       )\n",
    "x0 = np.array((0,0,0,0))\n",
    "b11res = minimize(fun, x0, method='SLSQP', constraints=cons)\n",
    "\n",
    "ub11 = b11res.x[0] * ug0 + b11res.x[1] * ug1 + b11res.x[2] * ub0 + b11res.x[3] * ub1\n",
    "vb11 = b11res.fun\n",
    "\n",
    "print(\"With b11pg0 =\",b11res.x[0])\n",
    "print(\"With b11pg1 =\",b11res.x[1])\n",
    "print(\"With b11pb0 =\",b11res.x[2])\n",
    "print(\"With b11pb1 =\",b11res.x[3])\n",
    "print(\"The expected utility of the player after b11 is\", ub11)"
   ]
  },
  {
   "cell_type": "code",
   "execution_count": 51,
   "metadata": {},
   "outputs": [],
   "source": [
    "# The above utility after some history can be added to the first stage payoff directly to solve the information design in the first stage"
   ]
  },
  {
   "cell_type": "code",
   "execution_count": 52,
   "metadata": {},
   "outputs": [
    {
     "name": "stdout",
     "output_type": "stream",
     "text": [
      "The maximum utility of the information designer in the first stage is -0.5000000000000006\n",
      "With pg0 = 0.3999999999999998\n",
      "With pg1 = 0.5\n",
      "With pb0 = 0.10000000000000074\n",
      "With pb1 = -7.28583859910259e-16\n"
     ]
    }
   ],
   "source": [
    "fun = lambda x : - x[0] - x[2]\n",
    "cons = ({'type': 'eq', 'fun': lambda x: x[0] + x[1] - pg},\n",
    "        {'type': 'eq', 'fun': lambda x: x[2] + x[3] - pb},\n",
    "        {'type': 'ineq', 'fun': lambda x: x[0] * (ug0 + ug00) + x[2] * (ub0 + ub00) - x[0] * (ug1 + ug01) - x[2] * (ub1 + ub01)},\n",
    "        {'type': 'ineq', 'fun': lambda x: x[1] * (ug1 + ug11) + x[3] * (ub1 + ub11) - x[1] * (ug0 + ug10) - x[3] * (ub0 + ub10)},\n",
    "        {'type': 'ineq', 'fun': lambda x: x[0]},\n",
    "        {'type': 'ineq', 'fun': lambda x: x[1]},\n",
    "        {'type': 'ineq', 'fun': lambda x: x[2]},\n",
    "        {'type': 'ineq', 'fun': lambda x: x[3]},\n",
    "        {'type': 'ineq', 'fun': lambda x: 1 - x[0]},\n",
    "        {'type': 'ineq', 'fun': lambda x: 1 - x[1]},\n",
    "        {'type': 'ineq', 'fun': lambda x: 1 - x[2]},\n",
    "        {'type': 'ineq', 'fun': lambda x: 1 - x[3]}\n",
    "       )\n",
    "res = minimize(fun, x0, method='SLSQP', constraints=cons)\n",
    "print(\"The maximum utility of the information designer in the first stage is\",res.fun)\n",
    "print(\"With pg0 =\",res.x[0])\n",
    "print(\"With pg1 =\",res.x[1])\n",
    "print(\"With pb0 =\",res.x[2])\n",
    "print(\"With pb1 =\",res.x[3])\n",
    "pg0 = res.x[0]\n",
    "pg1 = res.x[1]\n",
    "pb0 = res.x[2]\n",
    "pb1 = res.x[3]"
   ]
  },
  {
   "cell_type": "code",
   "execution_count": 53,
   "metadata": {},
   "outputs": [
    {
     "name": "stdout",
     "output_type": "stream",
     "text": [
      "The utility of the information designer is -1.4\n"
     ]
    }
   ],
   "source": [
    "print(\"The utility of the information designer is\", res.fun + pg0 *  vg00 + pb0 *  vb00 + pg1 * vg11 + pb1 * vb11)"
   ]
  },
  {
   "cell_type": "code",
   "execution_count": 54,
   "metadata": {},
   "outputs": [
    {
     "data": {
      "text/plain": [
       "0.5000000000000006"
      ]
     },
     "execution_count": 54,
     "metadata": {},
     "output_type": "execute_result"
    }
   ],
   "source": [
    "res.x[0] + res.x[2]"
   ]
  },
  {
   "cell_type": "code",
   "execution_count": 55,
   "metadata": {},
   "outputs": [],
   "source": [
    "# We record two things: the utility of the information designer and the probability assigned to action 0 in the first stage"
   ]
  },
  {
   "cell_type": "code",
   "execution_count": 56,
   "metadata": {},
   "outputs": [],
   "source": [
    "v_noncommitment = res.fun + pg0 *  vg00 + pb0 *  vb00 + pg1 * vg11 + pb1 * vb11\n",
    "p0_stage1_noncommitment = res.x[0] + res.x[2]"
   ]
  },
  {
   "cell_type": "code",
   "execution_count": 57,
   "metadata": {},
   "outputs": [],
   "source": [
    "# Then we compute this problem in the commitment case"
   ]
  },
  {
   "cell_type": "code",
   "execution_count": 58,
   "metadata": {},
   "outputs": [],
   "source": [
    "# We will need to determine 36 variables\n",
    "# pg0 pg1 pb0 pb1: x[0] x[1] x[2] x[3]\n",
    "\n",
    "# g00pg0 g00pg1 g00pb0 g00pb1 x[4] x[5] x[6] x[7]\n",
    "# g01pg0 g01pg1 g01pb0 g01pb1 x[8] x[9] x[10] x[11]\n",
    "# g10pg0 g10pg1 g10pb0 g10pb1 x[12] x[13] x[14] x[15]\n",
    "# g11pg0 g11pg1 g11pb0 g11pb1 x[16] x[17] x[18] x[19]\n",
    "\n",
    "# b00pg0 b00pg1 b00pb0 b00pb1 x[20] x[21] x[22] x[23]\n",
    "# b01pg0 b01pg1 b01pb0 b01pb1 x[24] x[25] x[26] x[27]\n",
    "# b10pg0 b10pg1 b10pb0 b10pb1 x[28] x[29] x[30] x[31]\n",
    "# b11pg0 b11pg1 b11pb0 b11pb1 x[32] x[33] x[34] x[35]"
   ]
  },
  {
   "cell_type": "code",
   "execution_count": 59,
   "metadata": {},
   "outputs": [
    {
     "name": "stdout",
     "output_type": "stream",
     "text": [
      "The utility of the information designer is -1.5999999996786323\n"
     ]
    }
   ],
   "source": [
    "fun = lambda x : -(x[0]*(1+x[4]+x[6])+x[1]*(x[16]+x[18])+x[2]*(1+x[20]+x[22])+x[3]*(x[32]+x[34]))\n",
    "cons = ({'type': 'eq', 'fun': lambda x: x[0] + x[1] - pg},\n",
    "        {'type': 'eq', 'fun': lambda x: x[2] + x[3] - pb},\n",
    "        {'type': 'eq', 'fun': lambda x: x[4] + x[5] - g00pg},\n",
    "        {'type': 'eq', 'fun': lambda x: x[6] + x[7] - g00pb},\n",
    "        {'type': 'eq', 'fun': lambda x: x[8] + x[9] - g01pg},\n",
    "        {'type': 'eq', 'fun': lambda x: x[10] + x[11] - g01pb},\n",
    "        {'type': 'eq', 'fun': lambda x: x[12] + x[13] - g10pg},\n",
    "        {'type': 'eq', 'fun': lambda x: x[14] + x[15] - g10pb},\n",
    "        {'type': 'eq', 'fun': lambda x: x[16] + x[17] - g11pg},\n",
    "        {'type': 'eq', 'fun': lambda x: x[18] + x[19] - g11pb},\n",
    "        {'type': 'eq', 'fun': lambda x: x[20] + x[21] - b00pg},\n",
    "        {'type': 'eq', 'fun': lambda x: x[22] + x[23] - b00pb},\n",
    "        {'type': 'eq', 'fun': lambda x: x[24] + x[25] - b01pg},\n",
    "        {'type': 'eq', 'fun': lambda x: x[26] + x[27] - b01pb},\n",
    "        {'type': 'eq', 'fun': lambda x: x[28] + x[29] - b10pg},\n",
    "        {'type': 'eq', 'fun': lambda x: x[30] + x[31] - b10pb},\n",
    "        {'type': 'eq', 'fun': lambda x: x[32] + x[33] - b11pg},\n",
    "        {'type': 'eq', 'fun': lambda x: x[34] + x[35] - b11pb},\n",
    "        {'type': 'ineq', 'fun': lambda x: x[4] * ug0 + x[6] * ub0 - x[4] * ug1 - x[6] * ub1},\n",
    "        {'type': 'ineq', 'fun': lambda x: x[5] * ug1 + x[7] * ub1 - x[5] * ug0 - x[7] * ub0},\n",
    "        {'type': 'ineq', 'fun': lambda x: x[8] * ug0 + x[10] * ub0 - x[8] * ug1 - x[10] * ub1},\n",
    "        {'type': 'ineq', 'fun': lambda x: x[9] * ug1 + x[11] * ub1 - x[9] * ug0 - x[11] * ub0},\n",
    "        {'type': 'ineq', 'fun': lambda x: x[12] * ug0 + x[14] * ub0 - x[12] * ug1 - x[14] * ub1},\n",
    "        {'type': 'ineq', 'fun': lambda x: x[13] * ug1 + x[15] * ub1 - x[13] * ug0 - x[15] * ub0},\n",
    "        {'type': 'ineq', 'fun': lambda x: x[16] * ug0 + x[18] * ub0 - x[16] * ug1 - x[18] * ub1},\n",
    "        {'type': 'ineq', 'fun': lambda x: x[17] * ug1 + x[19] * ub1 - x[17] * ug0 - x[19] * ub0},\n",
    "        {'type': 'ineq', 'fun': lambda x: x[20] * ug0 + x[22] * ub0 - x[20] * ug1 - x[22] * ub1},\n",
    "        {'type': 'ineq', 'fun': lambda x: x[21] * ug1 + x[23] * ub1 - x[21] * ug0 - x[23] * ub0},\n",
    "        {'type': 'ineq', 'fun': lambda x: x[24] * ug0 + x[26] * ub0 - x[24] * ug1 - x[26] * ub1},\n",
    "        {'type': 'ineq', 'fun': lambda x: x[25] * ug1 + x[27] * ub1 - x[25] * ug0 - x[27] * ub0},\n",
    "        {'type': 'ineq', 'fun': lambda x: x[28] * ug0 + x[30] * ub0 - x[28] * ug1 - x[30] * ub1},\n",
    "        {'type': 'ineq', 'fun': lambda x: x[29] * ug1 + x[31] * ub1 - x[29] * ug0 - x[31] * ub0},\n",
    "        {'type': 'ineq', 'fun': lambda x: x[32] * ug0 + x[34] * ub0 - x[32] * ug1 - x[34] * ub1},\n",
    "        {'type': 'ineq', 'fun': lambda x: x[33] * ug1 + x[35] * ub1 - x[33] * ug0 - x[35] * ub0},\n",
    "        {'type': 'ineq', 'fun': lambda x: x[0] * (ug0+x[4]*ug0+x[5]*ug1+x[6]*ub0+x[7]*ub1) \n",
    "         + x[2] * (ub0+x[20]*ug0+x[21]*ug1+x[22]*ub0+x[23]*ub1) \n",
    "         - x[0] * (ug1+x[8]*ug0+x[9]*ug1+x[10]*ub0+x[11]*ub1) \n",
    "         - x[2] * (ub1+x[24]*ug0+x[25]*ug1+x[26]*ub0+x[27]*ub1)},\n",
    "        {'type': 'ineq', 'fun': lambda x: x[1] * (ug1+x[16]*ug0+x[17]*ug1+x[18]*ub0+x[19]*ub1) \n",
    "         + x[3] * (ub1+x[32]*ug0+x[33]*ug1+x[34]*ub0+x[35]*ub1) \n",
    "         - x[1] * (ug0+x[12]*ug0+x[13]*ug1+x[14]*ub0+x[15]*ub1) \n",
    "         - x[3] * (ub0+x[28]*ug0+x[29]*ug1+x[30]*ub0+x[31]*ub1)},\n",
    "        {'type': 'ineq', 'fun': lambda x: x[0]},\n",
    "        {'type': 'ineq', 'fun': lambda x: x[1]},\n",
    "        {'type': 'ineq', 'fun': lambda x: x[2]},\n",
    "        {'type': 'ineq', 'fun': lambda x: x[3]},\n",
    "        {'type': 'ineq', 'fun': lambda x: x[4]},\n",
    "        {'type': 'ineq', 'fun': lambda x: x[5]},\n",
    "        {'type': 'ineq', 'fun': lambda x: x[6]},\n",
    "        {'type': 'ineq', 'fun': lambda x: x[7]},\n",
    "        {'type': 'ineq', 'fun': lambda x: x[8]},\n",
    "        {'type': 'ineq', 'fun': lambda x: x[9]},\n",
    "        {'type': 'ineq', 'fun': lambda x: x[10]},\n",
    "        {'type': 'ineq', 'fun': lambda x: x[11]},\n",
    "        {'type': 'ineq', 'fun': lambda x: x[12]},\n",
    "        {'type': 'ineq', 'fun': lambda x: x[13]},\n",
    "        {'type': 'ineq', 'fun': lambda x: x[14]},\n",
    "        {'type': 'ineq', 'fun': lambda x: x[15]},\n",
    "        {'type': 'ineq', 'fun': lambda x: x[16]},\n",
    "        {'type': 'ineq', 'fun': lambda x: x[17]},\n",
    "        {'type': 'ineq', 'fun': lambda x: x[18]},\n",
    "        {'type': 'ineq', 'fun': lambda x: x[19]},\n",
    "        {'type': 'ineq', 'fun': lambda x: x[20]},\n",
    "        {'type': 'ineq', 'fun': lambda x: x[21]},\n",
    "        {'type': 'ineq', 'fun': lambda x: x[22]},\n",
    "        {'type': 'ineq', 'fun': lambda x: x[23]},\n",
    "        {'type': 'ineq', 'fun': lambda x: x[24]},\n",
    "        {'type': 'ineq', 'fun': lambda x: x[25]},\n",
    "        {'type': 'ineq', 'fun': lambda x: x[26]},\n",
    "        {'type': 'ineq', 'fun': lambda x: x[27]},\n",
    "        {'type': 'ineq', 'fun': lambda x: x[28]},\n",
    "        {'type': 'ineq', 'fun': lambda x: x[29]},\n",
    "        {'type': 'ineq', 'fun': lambda x: x[30]},\n",
    "        {'type': 'ineq', 'fun': lambda x: x[31]},\n",
    "        {'type': 'ineq', 'fun': lambda x: x[32]},\n",
    "        {'type': 'ineq', 'fun': lambda x: x[33]},\n",
    "        {'type': 'ineq', 'fun': lambda x: x[34]},\n",
    "        {'type': 'ineq', 'fun': lambda x: x[35]},\n",
    "        {'type': 'ineq', 'fun': lambda x: 1 - x[0]},\n",
    "        {'type': 'ineq', 'fun': lambda x: 1 - x[1]},\n",
    "        {'type': 'ineq', 'fun': lambda x: 1 - x[2]},\n",
    "        {'type': 'ineq', 'fun': lambda x: 1 - x[3]},\n",
    "        {'type': 'ineq', 'fun': lambda x: 1 - x[4]},\n",
    "        {'type': 'ineq', 'fun': lambda x: 1 - x[5]},\n",
    "        {'type': 'ineq', 'fun': lambda x: 1 - x[6]},\n",
    "        {'type': 'ineq', 'fun': lambda x: 1 - x[7]},\n",
    "        {'type': 'ineq', 'fun': lambda x: 1 - x[8]},\n",
    "        {'type': 'ineq', 'fun': lambda x: 1 - x[9]},\n",
    "        {'type': 'ineq', 'fun': lambda x: 1 - x[10]},\n",
    "        {'type': 'ineq', 'fun': lambda x: 1 - x[11]},\n",
    "        {'type': 'ineq', 'fun': lambda x: 1 - x[12]},\n",
    "        {'type': 'ineq', 'fun': lambda x: 1 - x[13]},\n",
    "        {'type': 'ineq', 'fun': lambda x: 1 - x[14]},\n",
    "        {'type': 'ineq', 'fun': lambda x: 1 - x[15]},\n",
    "        {'type': 'ineq', 'fun': lambda x: 1 - x[16]},\n",
    "        {'type': 'ineq', 'fun': lambda x: 1 - x[17]},\n",
    "        {'type': 'ineq', 'fun': lambda x: 1 - x[18]},\n",
    "        {'type': 'ineq', 'fun': lambda x: 1 - x[19]},\n",
    "        {'type': 'ineq', 'fun': lambda x: 1 - x[20]},\n",
    "        {'type': 'ineq', 'fun': lambda x: 1 - x[21]},\n",
    "        {'type': 'ineq', 'fun': lambda x: 1 - x[22]},\n",
    "        {'type': 'ineq', 'fun': lambda x: 1 - x[23]},\n",
    "        {'type': 'ineq', 'fun': lambda x: 1 - x[24]},\n",
    "        {'type': 'ineq', 'fun': lambda x: 1 - x[25]},\n",
    "        {'type': 'ineq', 'fun': lambda x: 1 - x[26]},\n",
    "        {'type': 'ineq', 'fun': lambda x: 1 - x[27]},\n",
    "        {'type': 'ineq', 'fun': lambda x: 1 - x[28]},\n",
    "        {'type': 'ineq', 'fun': lambda x: 1 - x[29]},\n",
    "        {'type': 'ineq', 'fun': lambda x: 1 - x[30]},\n",
    "        {'type': 'ineq', 'fun': lambda x: 1 - x[31]},\n",
    "        {'type': 'ineq', 'fun': lambda x: 1 - x[32]},\n",
    "        {'type': 'ineq', 'fun': lambda x: 1 - x[33]},\n",
    "        {'type': 'ineq', 'fun': lambda x: 1 - x[34]},\n",
    "        {'type': 'ineq', 'fun': lambda x: 1 - x[35]},\n",
    "       )\n",
    "x0 = np.array((0,0,0,0,0,0,0,0,0,0,0,0,0,0,0,0,0,0,0,0,0,0,0,0,0,0,0,0,0,0,0,0,0,0,0,0))\n",
    "res = minimize(fun, x0, method='SLSQP', constraints=cons)\n",
    "\n",
    "print(\"The utility of the information designer is\", res.fun)"
   ]
  },
  {
   "cell_type": "code",
   "execution_count": 60,
   "metadata": {},
   "outputs": [],
   "source": [
    "v_commitment = res.fun\n",
    "p0_stage1_commitment = res.x[0] + res.x[2]"
   ]
  },
  {
   "cell_type": "code",
   "execution_count": 61,
   "metadata": {},
   "outputs": [
    {
     "data": {
      "text/plain": [
       "-1.5999999996786323"
      ]
     },
     "execution_count": 61,
     "metadata": {},
     "output_type": "execute_result"
    }
   ],
   "source": [
    "v_commitment"
   ]
  },
  {
   "cell_type": "code",
   "execution_count": 72,
   "metadata": {},
   "outputs": [],
   "source": [
    "df = pd.DataFrame(np.array([[-v_commitment,p0_stage1_commitment], [-v_noncommitment , p0_stage1_noncommitment]]))\n",
    "df.columns = ['utility of information designer','probability of action 1 in stage 1']\n",
    "df.index = ['Commitment','Non Commitment']"
   ]
  },
  {
   "cell_type": "code",
   "execution_count": 73,
   "metadata": {},
   "outputs": [
    {
     "data": {
      "text/html": [
       "<div>\n",
       "<style scoped>\n",
       "    .dataframe tbody tr th:only-of-type {\n",
       "        vertical-align: middle;\n",
       "    }\n",
       "\n",
       "    .dataframe tbody tr th {\n",
       "        vertical-align: top;\n",
       "    }\n",
       "\n",
       "    .dataframe thead th {\n",
       "        text-align: right;\n",
       "    }\n",
       "</style>\n",
       "<table border=\"1\" class=\"dataframe\">\n",
       "  <thead>\n",
       "    <tr style=\"text-align: right;\">\n",
       "      <th></th>\n",
       "      <th>utility of information designer</th>\n",
       "      <th>probability of action 1 in stage 1</th>\n",
       "    </tr>\n",
       "  </thead>\n",
       "  <tbody>\n",
       "    <tr>\n",
       "      <th>Commitment</th>\n",
       "      <td>1.6</td>\n",
       "      <td>1.0</td>\n",
       "    </tr>\n",
       "    <tr>\n",
       "      <th>Non Commitment</th>\n",
       "      <td>1.4</td>\n",
       "      <td>0.5</td>\n",
       "    </tr>\n",
       "  </tbody>\n",
       "</table>\n",
       "</div>"
      ],
      "text/plain": [
       "                utility of information designer  \\\n",
       "Commitment                                  1.6   \n",
       "Non Commitment                              1.4   \n",
       "\n",
       "                probability of action 1 in stage 1  \n",
       "Commitment                                     1.0  \n",
       "Non Commitment                                 0.5  "
      ]
     },
     "execution_count": 73,
     "metadata": {},
     "output_type": "execute_result"
    }
   ],
   "source": [
    "df"
   ]
  },
  {
   "cell_type": "code",
   "execution_count": null,
   "metadata": {},
   "outputs": [],
   "source": []
  }
 ],
 "metadata": {
  "kernelspec": {
   "display_name": "Python 3",
   "language": "python",
   "name": "python3"
  },
  "language_info": {
   "codemirror_mode": {
    "name": "ipython",
    "version": 3
   },
   "file_extension": ".py",
   "mimetype": "text/x-python",
   "name": "python",
   "nbconvert_exporter": "python",
   "pygments_lexer": "ipython3",
   "version": "3.7.3"
  }
 },
 "nbformat": 4,
 "nbformat_minor": 4
}
