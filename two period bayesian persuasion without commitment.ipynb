{
 "cells": [
  {
   "cell_type": "code",
   "execution_count": 183,
   "metadata": {},
   "outputs": [],
   "source": [
    "from scipy.optimize import minimize\n",
    "import numpy as np"
   ]
  },
  {
   "cell_type": "code",
   "execution_count": 184,
   "metadata": {},
   "outputs": [],
   "source": [
    "# First we define the utility of the player in the stage game"
   ]
  },
  {
   "cell_type": "code",
   "execution_count": 185,
   "metadata": {},
   "outputs": [],
   "source": [
    "ug0 = 1\n",
    "ug1 = 2\n",
    "ub0 = -1\n",
    "ub1 = -2"
   ]
  },
  {
   "cell_type": "code",
   "execution_count": 186,
   "metadata": {},
   "outputs": [],
   "source": [
    "# Then we set the probability of states\n",
    "# The variables with short names are for the first stage while variables with logn names are for the second stage"
   ]
  },
  {
   "cell_type": "code",
   "execution_count": 187,
   "metadata": {},
   "outputs": [],
   "source": [
    "pg = 0.5\n",
    "pb = 0.5\n",
    "\n",
    "g00pg = 0.6\n",
    "g00pb = 0.4\n",
    "g10pg = 0.6\n",
    "g10pb = 0.4\n",
    "b00pg = 0.6\n",
    "b00pb = 0.4\n",
    "b10pg = 0.6\n",
    "b10pb = 0.4\n",
    "\n",
    "g01pg = 0.4\n",
    "g01pb = 0.6\n",
    "g11pg = 0.4\n",
    "g11pb = 0.6\n",
    "b01pg = 0.4\n",
    "b01pb = 0.6\n",
    "b11pg = 0.4\n",
    "b11pb = 0.6"
   ]
  },
  {
   "cell_type": "code",
   "execution_count": 188,
   "metadata": {},
   "outputs": [],
   "source": [
    "# We need to solve the information design problem in the second stage after all possible histories"
   ]
  },
  {
   "cell_type": "code",
   "execution_count": 189,
   "metadata": {},
   "outputs": [],
   "source": [
    "# Here is the information design problem after history g00"
   ]
  },
  {
   "cell_type": "code",
   "execution_count": 190,
   "metadata": {},
   "outputs": [],
   "source": [
    "# We will need to determine g00pg0 g00pg1 g00pb0 and g00pb1\n",
    "# We denote them as x[0], x[1], x[2] and x[3] respectively"
   ]
  },
  {
   "cell_type": "code",
   "execution_count": 191,
   "metadata": {},
   "outputs": [
    {
     "name": "stdout",
     "output_type": "stream",
     "text": [
      "With g00pg0 = 0.3999999999999997\n",
      "With g00pg1 = 0.2\n",
      "With g00pb0 = 0.4\n",
      "With g00pb1 = -1.6653345369377348e-16\n",
      "The expected utility of the player after g00 is 0.4\n"
     ]
    }
   ],
   "source": [
    "fun = lambda x : - x[0] - x[2]\n",
    "cons = ({'type': 'eq', 'fun': lambda x: x[0] + x[1] - g00pg},\n",
    "        {'type': 'eq', 'fun': lambda x: x[2] + x[3] - g00pb},\n",
    "        {'type': 'ineq', 'fun': lambda x: x[0] * ug0 + x[2] * ub0 - x[0] * ug1 - x[2] * ub1},\n",
    "        {'type': 'ineq', 'fun': lambda x: x[1] * ug1 + x[3] * ub1 - x[1] * ug0 - x[3] * ub0},\n",
    "        {'type': 'ineq', 'fun': lambda x: x[0]},\n",
    "        {'type': 'ineq', 'fun': lambda x: x[1]},\n",
    "        {'type': 'ineq', 'fun': lambda x: x[2]},\n",
    "        {'type': 'ineq', 'fun': lambda x: x[3]},\n",
    "        {'type': 'ineq', 'fun': lambda x: 1 - x[0]},\n",
    "        {'type': 'ineq', 'fun': lambda x: 1 - x[1]},\n",
    "        {'type': 'ineq', 'fun': lambda x: 1 - x[2]},\n",
    "        {'type': 'ineq', 'fun': lambda x: 1 - x[3]}\n",
    "       )\n",
    "x0 = np.array((0,0,0,0))\n",
    "g00res = minimize(fun, x0, method='SLSQP', constraints=cons)\n",
    "\n",
    "ug00 = g00res.x[0] * ug0 + g00res.x[1] * ug1 + g00res.x[2] * ub0 + g00res.x[3] * ub1\n",
    "vg00 = g00res.fun\n",
    "\n",
    "print(\"With g00pg0 =\",g00res.x[0])\n",
    "print(\"With g00pg1 =\",g00res.x[1])\n",
    "print(\"With g00pb0 =\",g00res.x[2])\n",
    "print(\"With g00pb1 =\",g00res.x[3])\n",
    "print(\"The expected utility of the player after g00 is\", ug00)\n"
   ]
  },
  {
   "cell_type": "code",
   "execution_count": 192,
   "metadata": {},
   "outputs": [],
   "source": [
    "# Here is the information design problem after history g10\n",
    "# We will need to determine g10pg0 g10pg1 g10pb0 and g10pb1\n",
    "# We denote them as x[0], x[1], x[2] and x[3] respectively"
   ]
  },
  {
   "cell_type": "code",
   "execution_count": 193,
   "metadata": {},
   "outputs": [
    {
     "name": "stdout",
     "output_type": "stream",
     "text": [
      "With g10pg0 = 0.3999999999999997\n",
      "With g10pg1 = 0.2\n",
      "With g10pb0 = 0.4\n",
      "With g10pb1 = -1.6653345369377348e-16\n",
      "The expected utility of the player after g10 is 0.4\n"
     ]
    }
   ],
   "source": [
    "fun = lambda x : - x[0] - x[2]\n",
    "cons = ({'type': 'eq', 'fun': lambda x: x[0] + x[1] - g10pg},\n",
    "        {'type': 'eq', 'fun': lambda x: x[2] + x[3] - g10pb},\n",
    "        {'type': 'ineq', 'fun': lambda x: x[0] * ug0 + x[2] * ub0 - x[0] * ug1 - x[2] * ub1},\n",
    "        {'type': 'ineq', 'fun': lambda x: x[1] * ug1 + x[3] * ub1 - x[1] * ug0 - x[3] * ub0},\n",
    "        {'type': 'ineq', 'fun': lambda x: x[0]},\n",
    "        {'type': 'ineq', 'fun': lambda x: x[1]},\n",
    "        {'type': 'ineq', 'fun': lambda x: x[2]},\n",
    "        {'type': 'ineq', 'fun': lambda x: x[3]},\n",
    "        {'type': 'ineq', 'fun': lambda x: 1 - x[0]},\n",
    "        {'type': 'ineq', 'fun': lambda x: 1 - x[1]},\n",
    "        {'type': 'ineq', 'fun': lambda x: 1 - x[2]},\n",
    "        {'type': 'ineq', 'fun': lambda x: 1 - x[3]}\n",
    "       )\n",
    "x0 = np.array((0,0,0,0))\n",
    "g10res = minimize(fun, x0, method='SLSQP', constraints=cons)\n",
    "\n",
    "ug10 = g10res.x[0] * ug0 + g10res.x[1] * ug1 + g10res.x[2] * ub0 + g10res.x[3] * ub1\n",
    "vg10 = g10res.fun\n",
    "\n",
    "print(\"With g10pg0 =\",g10res.x[0])\n",
    "print(\"With g10pg1 =\",g10res.x[1])\n",
    "print(\"With g10pb0 =\",g10res.x[2])\n",
    "print(\"With g10pb1 =\",g10res.x[3])\n",
    "print(\"The expected utility of the player after g10 is\", ug10)\n"
   ]
  },
  {
   "cell_type": "code",
   "execution_count": 194,
   "metadata": {},
   "outputs": [
    {
     "name": "stdout",
     "output_type": "stream",
     "text": [
      "With b00pg0 = 0.3999999999999997\n",
      "With b00pg1 = 0.2\n",
      "With b00pb0 = 0.4\n",
      "With b00pb1 = -1.6653345369377348e-16\n",
      "The expected utility of the player after b00 is 0.4\n"
     ]
    }
   ],
   "source": [
    "fun = lambda x : - x[0] - x[2]\n",
    "cons = ({'type': 'eq', 'fun': lambda x: x[0] + x[1] - b00pg},\n",
    "        {'type': 'eq', 'fun': lambda x: x[2] + x[3] - b00pb},\n",
    "        {'type': 'ineq', 'fun': lambda x: x[0] * ug0 + x[2] * ub0 - x[0] * ug1 - x[2] * ub1},\n",
    "        {'type': 'ineq', 'fun': lambda x: x[1] * ug1 + x[3] * ub1 - x[1] * ug0 - x[3] * ub0},\n",
    "        {'type': 'ineq', 'fun': lambda x: x[0]},\n",
    "        {'type': 'ineq', 'fun': lambda x: x[1]},\n",
    "        {'type': 'ineq', 'fun': lambda x: x[2]},\n",
    "        {'type': 'ineq', 'fun': lambda x: x[3]},\n",
    "        {'type': 'ineq', 'fun': lambda x: 1 - x[0]},\n",
    "        {'type': 'ineq', 'fun': lambda x: 1 - x[1]},\n",
    "        {'type': 'ineq', 'fun': lambda x: 1 - x[2]},\n",
    "        {'type': 'ineq', 'fun': lambda x: 1 - x[3]}\n",
    "       )\n",
    "x0 = np.array((0,0,0,0))\n",
    "b00res = minimize(fun, x0, method='SLSQP', constraints=cons)\n",
    "\n",
    "ub00 = b00res.x[0] * ug0 + b00res.x[1] * ug1 + b00res.x[2] * ub0 + b00res.x[3] * ub1\n",
    "vb00 = b00res.fun\n",
    "\n",
    "print(\"With b00pg0 =\",b00res.x[0])\n",
    "print(\"With b00pg1 =\",b00res.x[1])\n",
    "print(\"With b00pb0 =\",b00res.x[2])\n",
    "print(\"With b00pb1 =\",b00res.x[3])\n",
    "print(\"The expected utility of the player after b00 is\", ub00)\n"
   ]
  },
  {
   "cell_type": "code",
   "execution_count": 195,
   "metadata": {},
   "outputs": [
    {
     "name": "stdout",
     "output_type": "stream",
     "text": [
      "With b10pg0 = 0.3999999999999997\n",
      "With b10pg1 = 0.2\n",
      "With b10pb0 = 0.4\n",
      "With b10pb1 = -1.6653345369377348e-16\n",
      "The expected utility of the player after b10 is 0.4\n"
     ]
    }
   ],
   "source": [
    "fun = lambda x : - x[0] - x[2]\n",
    "cons = ({'type': 'eq', 'fun': lambda x: x[0] + x[1] - b10pg},\n",
    "        {'type': 'eq', 'fun': lambda x: x[2] + x[3] - b10pb},\n",
    "        {'type': 'ineq', 'fun': lambda x: x[0] * ug0 + x[2] * ub0 - x[0] * ug1 - x[2] * ub1},\n",
    "        {'type': 'ineq', 'fun': lambda x: x[1] * ug1 + x[3] * ub1 - x[1] * ug0 - x[3] * ub0},\n",
    "        {'type': 'ineq', 'fun': lambda x: x[0]},\n",
    "        {'type': 'ineq', 'fun': lambda x: x[1]},\n",
    "        {'type': 'ineq', 'fun': lambda x: x[2]},\n",
    "        {'type': 'ineq', 'fun': lambda x: x[3]},\n",
    "        {'type': 'ineq', 'fun': lambda x: 1 - x[0]},\n",
    "        {'type': 'ineq', 'fun': lambda x: 1 - x[1]},\n",
    "        {'type': 'ineq', 'fun': lambda x: 1 - x[2]},\n",
    "        {'type': 'ineq', 'fun': lambda x: 1 - x[3]}\n",
    "       )\n",
    "x0 = np.array((0,0,0,0))\n",
    "b10res = minimize(fun, x0, method='SLSQP', constraints=cons)\n",
    "\n",
    "ub10 = b10res.x[0] * ug0 + b10res.x[1] * ug1 + b10res.x[2] * ub0 + b10res.x[3] * ub1\n",
    "vb10 = b10res.fun\n",
    "\n",
    "print(\"With b10pg0 =\",b10res.x[0])\n",
    "print(\"With b10pg1 =\",b10res.x[1])\n",
    "print(\"With b10pb0 =\",b10res.x[2])\n",
    "print(\"With b10pb1 =\",b10res.x[3])\n",
    "print(\"The expected utility of the player after b10 is\", ub10)"
   ]
  },
  {
   "cell_type": "code",
   "execution_count": 196,
   "metadata": {},
   "outputs": [
    {
     "name": "stdout",
     "output_type": "stream",
     "text": [
      "With g01pg0 = 0.3999999999999999\n",
      "With g01pg1 = -1.1102230246251565e-16\n",
      "With g01pb0 = 0.5999999999999998\n",
      "With g01pb1 = 5.551115123125783e-17\n",
      "The expected utility of the player after g01 is -0.20000000000000018\n"
     ]
    }
   ],
   "source": [
    "fun = lambda x : - x[0] - x[2]\n",
    "cons = ({'type': 'eq', 'fun': lambda x: x[0] + x[1] - g01pg},\n",
    "        {'type': 'eq', 'fun': lambda x: x[2] + x[3] - g01pb},\n",
    "        {'type': 'ineq', 'fun': lambda x: x[0] * ug0 + x[2] * ub0 - x[0] * ug1 - x[2] * ub1},\n",
    "        {'type': 'ineq', 'fun': lambda x: x[1] * ug1 + x[3] * ub1 - x[1] * ug0 - x[3] * ub0},\n",
    "        {'type': 'ineq', 'fun': lambda x: x[0]},\n",
    "        {'type': 'ineq', 'fun': lambda x: x[1]},\n",
    "        {'type': 'ineq', 'fun': lambda x: x[2]},\n",
    "        {'type': 'ineq', 'fun': lambda x: x[3]},\n",
    "        {'type': 'ineq', 'fun': lambda x: 1 - x[0]},\n",
    "        {'type': 'ineq', 'fun': lambda x: 1 - x[1]},\n",
    "        {'type': 'ineq', 'fun': lambda x: 1 - x[2]},\n",
    "        {'type': 'ineq', 'fun': lambda x: 1 - x[3]}\n",
    "       )\n",
    "x0 = np.array((0,0,0,0))\n",
    "g01res = minimize(fun, x0, method='SLSQP', constraints=cons)\n",
    "\n",
    "ug01 = g01res.x[0] * ug0 + g01res.x[1] * ug1 + g01res.x[2] * ub0 + g01res.x[3] * ub1\n",
    "vg01 = g01res.fun\n",
    "\n",
    "print(\"With g01pg0 =\",g01res.x[0])\n",
    "print(\"With g01pg1 =\",g01res.x[1])\n",
    "print(\"With g01pb0 =\",g01res.x[2])\n",
    "print(\"With g01pb1 =\",g01res.x[3])\n",
    "print(\"The expected utility of the player after g01 is\", ug01)"
   ]
  },
  {
   "cell_type": "code",
   "execution_count": 197,
   "metadata": {},
   "outputs": [
    {
     "name": "stdout",
     "output_type": "stream",
     "text": [
      "With g11pg0 = 0.3999999999999999\n",
      "With g11pg1 = -1.1102230246251565e-16\n",
      "With g11pb0 = 0.5999999999999998\n",
      "With g11pb1 = 5.551115123125783e-17\n",
      "The expected utility of the player after g11 is -0.20000000000000018\n"
     ]
    }
   ],
   "source": [
    "fun = lambda x : - x[0] - x[2]\n",
    "cons = ({'type': 'eq', 'fun': lambda x: x[0] + x[1] - g11pg},\n",
    "        {'type': 'eq', 'fun': lambda x: x[2] + x[3] - g11pb},\n",
    "        {'type': 'ineq', 'fun': lambda x: x[0] * ug0 + x[2] * ub0 - x[0] * ug1 - x[2] * ub1},\n",
    "        {'type': 'ineq', 'fun': lambda x: x[1] * ug1 + x[3] * ub1 - x[1] * ug0 - x[3] * ub0},\n",
    "        {'type': 'ineq', 'fun': lambda x: x[0]},\n",
    "        {'type': 'ineq', 'fun': lambda x: x[1]},\n",
    "        {'type': 'ineq', 'fun': lambda x: x[2]},\n",
    "        {'type': 'ineq', 'fun': lambda x: x[3]},\n",
    "        {'type': 'ineq', 'fun': lambda x: 1 - x[0]},\n",
    "        {'type': 'ineq', 'fun': lambda x: 1 - x[1]},\n",
    "        {'type': 'ineq', 'fun': lambda x: 1 - x[2]},\n",
    "        {'type': 'ineq', 'fun': lambda x: 1 - x[3]}\n",
    "       )\n",
    "x0 = np.array((0,0,0,0))\n",
    "g11res = minimize(fun, x0, method='SLSQP', constraints=cons)\n",
    "\n",
    "ug11 = g11res.x[0] * ug0 + g11res.x[1] * ug1 + g11res.x[2] * ub0 + g11res.x[3] * ub1\n",
    "vg11 = g11res.fun\n",
    "\n",
    "print(\"With g11pg0 =\",g11res.x[0])\n",
    "print(\"With g11pg1 =\",g11res.x[1])\n",
    "print(\"With g11pb0 =\",g11res.x[2])\n",
    "print(\"With g11pb1 =\",g11res.x[3])\n",
    "print(\"The expected utility of the player after g11 is\", ug11)"
   ]
  },
  {
   "cell_type": "code",
   "execution_count": 198,
   "metadata": {},
   "outputs": [
    {
     "name": "stdout",
     "output_type": "stream",
     "text": [
      "With b01pg0 = 0.3999999999999999\n",
      "With b01pg1 = -1.1102230246251565e-16\n",
      "With b01pb0 = 0.5999999999999998\n",
      "With b01pb1 = 5.551115123125783e-17\n",
      "The expected utility of the player after b01 is -0.20000000000000018\n"
     ]
    }
   ],
   "source": [
    "fun = lambda x : - x[0] - x[2]\n",
    "cons = ({'type': 'eq', 'fun': lambda x: x[0] + x[1] - b01pg},\n",
    "        {'type': 'eq', 'fun': lambda x: x[2] + x[3] - b01pb},\n",
    "        {'type': 'ineq', 'fun': lambda x: x[0] * ug0 + x[2] * ub0 - x[0] * ug1 - x[2] * ub1},\n",
    "        {'type': 'ineq', 'fun': lambda x: x[1] * ug1 + x[3] * ub1 - x[1] * ug0 - x[3] * ub0},\n",
    "        {'type': 'ineq', 'fun': lambda x: x[0]},\n",
    "        {'type': 'ineq', 'fun': lambda x: x[1]},\n",
    "        {'type': 'ineq', 'fun': lambda x: x[2]},\n",
    "        {'type': 'ineq', 'fun': lambda x: x[3]},\n",
    "        {'type': 'ineq', 'fun': lambda x: 1 - x[0]},\n",
    "        {'type': 'ineq', 'fun': lambda x: 1 - x[1]},\n",
    "        {'type': 'ineq', 'fun': lambda x: 1 - x[2]},\n",
    "        {'type': 'ineq', 'fun': lambda x: 1 - x[3]}\n",
    "       )\n",
    "x0 = np.array((0,0,0,0))\n",
    "b01res = minimize(fun, x0, method='SLSQP', constraints=cons)\n",
    "\n",
    "ub01 = b01res.x[0] * ug0 + b01res.x[1] * ug1 + b01res.x[2] * ub0 + b01res.x[3] * ub1\n",
    "vb01 = b01res.fun\n",
    "\n",
    "print(\"With b01pg0 =\",b01res.x[0])\n",
    "print(\"With b01pg1 =\",b01res.x[1])\n",
    "print(\"With b01pb0 =\",b01res.x[2])\n",
    "print(\"With b01pb1 =\",b01res.x[3])\n",
    "print(\"The expected utility of the player after b01 is\", ub01)"
   ]
  },
  {
   "cell_type": "code",
   "execution_count": 199,
   "metadata": {},
   "outputs": [
    {
     "name": "stdout",
     "output_type": "stream",
     "text": [
      "With b11pg0 = 0.3999999999999999\n",
      "With b11pg1 = -1.1102230246251565e-16\n",
      "With b11pb0 = 0.5999999999999998\n",
      "With b11pb1 = 5.551115123125783e-17\n",
      "The expected utility of the player after b11 is -0.20000000000000018\n"
     ]
    }
   ],
   "source": [
    "fun = lambda x : - x[0] - x[2]\n",
    "cons = ({'type': 'eq', 'fun': lambda x: x[0] + x[1] - b11pg},\n",
    "        {'type': 'eq', 'fun': lambda x: x[2] + x[3] - b11pb},\n",
    "        {'type': 'ineq', 'fun': lambda x: x[0] * ug0 + x[2] * ub0 - x[0] * ug1 - x[2] * ub1},\n",
    "        {'type': 'ineq', 'fun': lambda x: x[1] * ug1 + x[3] * ub1 - x[1] * ug0 - x[3] * ub0},\n",
    "        {'type': 'ineq', 'fun': lambda x: x[0]},\n",
    "        {'type': 'ineq', 'fun': lambda x: x[1]},\n",
    "        {'type': 'ineq', 'fun': lambda x: x[2]},\n",
    "        {'type': 'ineq', 'fun': lambda x: x[3]},\n",
    "        {'type': 'ineq', 'fun': lambda x: 1 - x[0]},\n",
    "        {'type': 'ineq', 'fun': lambda x: 1 - x[1]},\n",
    "        {'type': 'ineq', 'fun': lambda x: 1 - x[2]},\n",
    "        {'type': 'ineq', 'fun': lambda x: 1 - x[3]}\n",
    "       )\n",
    "x0 = np.array((0,0,0,0))\n",
    "b11res = minimize(fun, x0, method='SLSQP', constraints=cons)\n",
    "\n",
    "ub11 = b11res.x[0] * ug0 + b11res.x[1] * ug1 + b11res.x[2] * ub0 + b11res.x[3] * ub1\n",
    "vb11 = b11res.fun\n",
    "\n",
    "print(\"With b11pg0 =\",b11res.x[0])\n",
    "print(\"With b11pg1 =\",b11res.x[1])\n",
    "print(\"With b11pb0 =\",b11res.x[2])\n",
    "print(\"With b11pb1 =\",b11res.x[3])\n",
    "print(\"The expected utility of the player after b11 is\", ub11)"
   ]
  },
  {
   "cell_type": "code",
   "execution_count": 200,
   "metadata": {},
   "outputs": [],
   "source": [
    "# The above utility after some history can be added to the first stage payoff directly to solve the information design in the first stage"
   ]
  },
  {
   "cell_type": "code",
   "execution_count": 201,
   "metadata": {},
   "outputs": [
    {
     "name": "stdout",
     "output_type": "stream",
     "text": [
      "The maximum utility of the information designer in the first stage is -0.9999999999999996\n",
      "With pg0 = 0.4999999999999998\n",
      "With pg1 = 5.551115123125783e-17\n",
      "With pb0 = 0.4999999999999998\n",
      "With pb1 = -5.551115123125783e-17\n"
     ]
    }
   ],
   "source": [
    "fun = lambda x : - x[0] - x[2]\n",
    "cons = ({'type': 'eq', 'fun': lambda x: x[0] + x[1] - pg},\n",
    "        {'type': 'eq', 'fun': lambda x: x[2] + x[3] - pb},\n",
    "        {'type': 'ineq', 'fun': lambda x: x[0] * (ug0 + ug00) + x[2] * (ub0 + ub00) - x[0] * (ug1 + ug01) - x[2] * (ub1 + ub01)},\n",
    "        {'type': 'ineq', 'fun': lambda x: x[1] * (ug1 + ug11) + x[3] * (ub1 + ub11) - x[1] * (ug0 + ug10) - x[3] * (ub0 + ub10)},\n",
    "        {'type': 'ineq', 'fun': lambda x: x[0]},\n",
    "        {'type': 'ineq', 'fun': lambda x: x[1]},\n",
    "        {'type': 'ineq', 'fun': lambda x: x[2]},\n",
    "        {'type': 'ineq', 'fun': lambda x: x[3]},\n",
    "        {'type': 'ineq', 'fun': lambda x: 1 - x[0]},\n",
    "        {'type': 'ineq', 'fun': lambda x: 1 - x[1]},\n",
    "        {'type': 'ineq', 'fun': lambda x: 1 - x[2]},\n",
    "        {'type': 'ineq', 'fun': lambda x: 1 - x[3]}\n",
    "       )\n",
    "res = minimize(fun, x0, method='SLSQP', constraints=cons)\n",
    "print(\"The maximum utility of the information designer in the first stage is\",res.fun)\n",
    "print(\"With pg0 =\",res.x[0])\n",
    "print(\"With pg1 =\",res.x[1])\n",
    "print(\"With pb0 =\",res.x[2])\n",
    "print(\"With pb1 =\",res.x[3])\n",
    "pg0 = res.x[0]\n",
    "pg1 = res.x[1]\n",
    "pb0 = res.x[2]\n",
    "pb1 = res.x[3]"
   ]
  },
  {
   "cell_type": "code",
   "execution_count": 202,
   "metadata": {},
   "outputs": [
    {
     "name": "stdout",
     "output_type": "stream",
     "text": [
      "The utility of the information designer is -1.799999999999999\n"
     ]
    }
   ],
   "source": [
    "print(\"The utility of the information designer is\", res.fun + pg0 *  vg00 + pb0 *  vb00 + pg1 * vg11 + pb1 * vb11)"
   ]
  }
 ],
 "metadata": {
  "kernelspec": {
   "display_name": "Python 3",
   "language": "python",
   "name": "python3"
  },
  "language_info": {
   "codemirror_mode": {
    "name": "ipython",
    "version": 3
   },
   "file_extension": ".py",
   "mimetype": "text/x-python",
   "name": "python",
   "nbconvert_exporter": "python",
   "pygments_lexer": "ipython3",
   "version": "3.7.3"
  }
 },
 "nbformat": 4,
 "nbformat_minor": 4
}
