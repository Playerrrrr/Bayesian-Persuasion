{
 "cells": [
  {
   "cell_type": "code",
   "execution_count": 24,
   "metadata": {},
   "outputs": [],
   "source": [
    "from scipy.optimize import minimize\n",
    "import numpy as np"
   ]
  },
  {
   "cell_type": "code",
   "execution_count": 25,
   "metadata": {},
   "outputs": [],
   "source": [
    "# We use g and b to denote the states and 0 and 1 to denote the actions\n",
    "# x[0] is pg0, x[1] is pg1, x[2] is pb0 and x[3] is pb1"
   ]
  },
  {
   "cell_type": "code",
   "execution_count": 26,
   "metadata": {},
   "outputs": [],
   "source": [
    "# pg = pg0 + pg1 and pb = pb0 + pb1"
   ]
  },
  {
   "cell_type": "code",
   "execution_count": 27,
   "metadata": {},
   "outputs": [],
   "source": [
    "pg = 0.6\n",
    "pb = 0.4"
   ]
  },
  {
   "cell_type": "code",
   "execution_count": 28,
   "metadata": {},
   "outputs": [],
   "source": [
    "# We use ug0 to denote the utility of taking action 0 when the state is g"
   ]
  },
  {
   "cell_type": "code",
   "execution_count": 29,
   "metadata": {},
   "outputs": [],
   "source": [
    "ug0 = 1\n",
    "ug1 = 2\n",
    "ub0 = -1\n",
    "ub1 = -2"
   ]
  },
  {
   "cell_type": "code",
   "execution_count": 30,
   "metadata": {},
   "outputs": [],
   "source": [
    "fun = lambda x : - x[1] - x[3]"
   ]
  },
  {
   "cell_type": "code",
   "execution_count": 31,
   "metadata": {},
   "outputs": [],
   "source": [
    "# All the inequality constraints are >="
   ]
  },
  {
   "cell_type": "code",
   "execution_count": 32,
   "metadata": {},
   "outputs": [],
   "source": [
    "cons = ({'type': 'eq', 'fun': lambda x: x[0] + x[1] - pg},\n",
    "        {'type': 'eq', 'fun': lambda x: x[2] + x[3] - pb},\n",
    "        {'type': 'ineq', 'fun': lambda x: x[0] * ug0 + x[2] * ub0 - x[0] * ug1 - x[2] * ub1},\n",
    "        {'type': 'ineq', 'fun': lambda x: x[1] * ug1 + x[3] * ub1 - x[1] * ug0 - x[3] * ub0},\n",
    "        {'type': 'ineq', 'fun': lambda x: x[0]},\n",
    "        {'type': 'ineq', 'fun': lambda x: x[1]},\n",
    "        {'type': 'ineq', 'fun': lambda x: x[2]},\n",
    "        {'type': 'ineq', 'fun': lambda x: x[3]},\n",
    "        {'type': 'ineq', 'fun': lambda x: 1 - x[0]},\n",
    "        {'type': 'ineq', 'fun': lambda x: 1 - x[1]},\n",
    "        {'type': 'ineq', 'fun': lambda x: 1 - x[2]},\n",
    "        {'type': 'ineq', 'fun': lambda x: 1 - x[3]}\n",
    "       )"
   ]
  },
  {
   "cell_type": "code",
   "execution_count": 33,
   "metadata": {},
   "outputs": [],
   "source": [
    "x0 = np.array((0,0,0,0))"
   ]
  },
  {
   "cell_type": "code",
   "execution_count": 34,
   "metadata": {},
   "outputs": [],
   "source": [
    "res = minimize(fun, x0, method='SLSQP', constraints=cons)"
   ]
  },
  {
   "cell_type": "code",
   "execution_count": 35,
   "metadata": {},
   "outputs": [
    {
     "name": "stdout",
     "output_type": "stream",
     "text": [
      "The maximum utility of the information designer in this problem is -0.9999999999999999\n",
      "With pg0 = 5.551115123125783e-17\n",
      "With pg1 = 0.5999999999999998\n",
      "With pb0 = -8.326672684688674e-17\n",
      "With pb1 = 0.40000000000000013\n"
     ]
    }
   ],
   "source": [
    "print(\"The maximum utility of the information designer in this problem is\",res.fun)\n",
    "print(\"With pg0 =\",res.x[0])\n",
    "print(\"With pg1 =\",res.x[1])\n",
    "print(\"With pb0 =\",res.x[2])\n",
    "print(\"With pb1 =\",res.x[3])"
   ]
  },
  {
   "cell_type": "code",
   "execution_count": null,
   "metadata": {},
   "outputs": [],
   "source": []
  }
 ],
 "metadata": {
  "kernelspec": {
   "display_name": "Python 3",
   "language": "python",
   "name": "python3"
  },
  "language_info": {
   "codemirror_mode": {
    "name": "ipython",
    "version": 3
   },
   "file_extension": ".py",
   "mimetype": "text/x-python",
   "name": "python",
   "nbconvert_exporter": "python",
   "pygments_lexer": "ipython3",
   "version": "3.7.3"
  }
 },
 "nbformat": 4,
 "nbformat_minor": 4
}
